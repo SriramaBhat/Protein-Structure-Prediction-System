{
 "cells": [
  {
   "cell_type": "markdown",
   "id": "64310a86",
   "metadata": {},
   "source": [
    "# Implementation of Utility functions required for Protein Structure Prediction"
   ]
  },
  {
   "cell_type": "markdown",
   "id": "54c77dba",
   "metadata": {},
   "source": [
    "## Importing required Libraries"
   ]
  },
  {
   "cell_type": "code",
   "execution_count": 1,
   "id": "703246a3",
   "metadata": {},
   "outputs": [],
   "source": [
    "import collections\n",
    "import math\n",
    "import os\n",
    "from datetime import datetime\n",
    "import torch\n",
    "import torch.utils.data\n",
    "import torch.nn.functional as F\n",
    "import h5py\n",
    "import PeptideBuilder\n",
    "import Bio.PDB\n",
    "from Bio.Data.IUPACData import protein_letters_1to3\n",
    "import numpy as np\n",
    "from torch.nn.utils.rnn import pad_sequence"
   ]
  },
  {
   "cell_type": "markdown",
   "id": "018eca32",
   "metadata": {},
   "source": [
    "### Defining Amino Acid Dictionary and PyTorch Tensor"
   ]
  },
  {
   "cell_type": "code",
   "execution_count": 2,
   "id": "2ee56cf8",
   "metadata": {},
   "outputs": [],
   "source": [
    "AA_ID_DICT = {'A': 1, 'C': 2, 'D': 3, 'E': 4, 'F': 5, 'G': 6, 'H': 7, 'I': 8, 'K': 9,\n",
    "              'L': 10, 'M': 11, 'N': 12, 'P': 13, 'Q': 14, 'R': 15, 'S': 16, 'T': 17,\n",
    "              'V': 18, 'W': 19, 'Y': 20}\n",
    "\n",
    "PI_TENSOR = torch.tensor([3.141592])"
   ]
  },
  {
   "cell_type": "code",
   "execution_count": 3,
   "id": "2837ef68",
   "metadata": {},
   "outputs": [
    {
     "data": {
      "text/plain": [
       "tensor([3.1416])"
      ]
     },
     "execution_count": 3,
     "metadata": {},
     "output_type": "execute_result"
    }
   ],
   "source": [
    "PI_TENSOR"
   ]
  },
  {
   "cell_type": "markdown",
   "id": "60aa10e1",
   "metadata": {},
   "source": [
    "### Function to create a PyTorch DataLoader for Loading the Protein data from the database"
   ]
  },
  {
   "cell_type": "code",
   "execution_count": 4,
   "id": "f04f1026",
   "metadata": {},
   "outputs": [],
   "source": [
    "def contruct_dataloader_from_disk(filename, minibatch_size):\n",
    "    return torch.utils.data.DataLoader(H5PytorchDataset(filename),\n",
    "                                       batch_size=minibatch_size,\n",
    "                                       shuffle=True,\n",
    "                                       collate_fn=merge_samples_to_minibatch)"
   ]
  },
  {
   "cell_type": "markdown",
   "id": "e43a4ae7",
   "metadata": {},
   "source": [
    "### Function to access the Protein database as a Map Type Dataset for the DataLoader Class"
   ]
  },
  {
   "cell_type": "code",
   "execution_count": 6,
   "id": "dc1a43d5",
   "metadata": {},
   "outputs": [],
   "source": [
    "class H5PytorchDataset(torch.utils.data.Dataset):\n",
    "    def __init__(self, filename):\n",
    "        super(H5PytorchDataset, self).__init__()\n",
    "\n",
    "        self.h5pyfile = h5py.File(filename, 'r')\n",
    "        self.num_proteins, self.max_sequence_len = self.h5pyfile['primary'].shape\n",
    "\n",
    "    def __getitem__(self, index):\n",
    "        mask = torch.Tensor(self.h5pyfile['mask'][index, :]).type(dtype=torch.bool)\n",
    "        prim = torch.masked_select(\n",
    "            torch.Tensor(self.h5pyfile['primary'][index, :]).type(dtype=torch.int),\n",
    "            mask)\n",
    "        tertiary = torch.Tensor(self.h5pyfile['tertiary'][index][:int(mask.sum())])\n",
    "        return prim, tertiary, mask\n",
    "\n",
    "    def __len__(self):\n",
    "        return self.num_proteins"
   ]
  },
  {
   "cell_type": "markdown",
   "id": "82652f6b",
   "metadata": {},
   "source": [
    "### Function to merge the Protein Samples into a Mini Batch for Mini-Batch Gradient Descent Algorithm"
   ]
  },
  {
   "cell_type": "code",
   "execution_count": 7,
   "id": "478be4ba",
   "metadata": {},
   "outputs": [],
   "source": [
    "def merge_samples_to_minibatch(samples):\n",
    "    samples_list = []\n",
    "    for sample in samples:\n",
    "        samples_list.append(sample)\n",
    "    # sort according to length of aa sequence\n",
    "    samples_list.sort(key=lambda x: len(x[0]), reverse=True)\n",
    "    return zip(*samples_list)"
   ]
  },
  {
   "cell_type": "markdown",
   "id": "a9b6f64e",
   "metadata": {},
   "source": [
    "### Function to set the Experiment Id for each of the Mini-Batch"
   ]
  },
  {
   "cell_type": "code",
   "execution_count": 8,
   "id": "02b0fa9e",
   "metadata": {},
   "outputs": [],
   "source": [
    "def set_experiment_id(data_set_identifier, learning_rate, minibatch_size):\n",
    "    output_string = datetime.now().strftime('%Y-%m-%d_%H_%M_%S')\n",
    "    output_string += \"-\" + str(os.getpid())\n",
    "    output_string += \"-\" + data_set_identifier\n",
    "    output_string += \"-LR\" + str(learning_rate).replace(\".\", \"_\")\n",
    "    output_string += \"-MB\" + str(minibatch_size)\n",
    "    globals().__setitem__(\"experiment_id\", output_string)"
   ]
  },
  {
   "cell_type": "markdown",
   "id": "a97c89fa",
   "metadata": {},
   "source": [
    "### Function to get the Experiment Id of a Mini Batch"
   ]
  },
  {
   "cell_type": "code",
   "execution_count": 9,
   "id": "097948dc",
   "metadata": {},
   "outputs": [],
   "source": [
    "def get_experiment_id():\n",
    "    return globals().get(\"experiment_id\")"
   ]
  },
  {
   "cell_type": "markdown",
   "id": "6621f572",
   "metadata": {},
   "source": [
    "### Function to save the model into an output file"
   ]
  },
  {
   "cell_type": "code",
   "execution_count": 10,
   "id": "a755c3bb",
   "metadata": {},
   "outputs": [],
   "source": [
    "def write_model_to_disk(model):\n",
    "    path = \"output/models/\" + globals().get(\"experiment_id\") + \".model\"\n",
    "    torch.save(model, path)\n",
    "    return path"
   ]
  },
  {
   "cell_type": "markdown",
   "id": "496b2db8",
   "metadata": {},
   "source": [
    "### Function to write the prediction data into a file"
   ]
  },
  {
   "cell_type": "code",
   "execution_count": 11,
   "id": "44c9c958",
   "metadata": {},
   "outputs": [],
   "source": [
    "def write_prediction_data_to_disk(prediction_data):\n",
    "    filepath = \"output/predictions/\" + globals().get(\"experiment_id\") + \".txt\"\n",
    "    output_file = open(filepath, 'w')\n",
    "    output_file.write(prediction_data)\n",
    "    output_file.close()"
   ]
  },
  {
   "cell_type": "markdown",
   "id": "398e114a",
   "metadata": {},
   "source": [
    "### Function to write the summary of the experiment into a file"
   ]
  },
  {
   "cell_type": "code",
   "execution_count": 12,
   "id": "03d1a129",
   "metadata": {},
   "outputs": [],
   "source": [
    "def write_result_summary(accuracy):\n",
    "    output_string = globals().get(\"experiment_id\") + \": \" + str(accuracy) + \"\\n\"\n",
    "    with open(\"output/result_summary.txt\", \"a+\") as output_file:\n",
    "        output_file.write(output_string)\n",
    "        output_file.flush()\n",
    "    print(output_string, end=\"\")"
   ]
  },
  {
   "cell_type": "markdown",
   "id": "18cf7f44",
   "metadata": {},
   "source": [
    "### Function to convert protein id into a string"
   ]
  },
  {
   "cell_type": "code",
   "execution_count": 13,
   "id": "c2591804",
   "metadata": {},
   "outputs": [],
   "source": [
    "def protein_id_to_str(protein_id_list):\n",
    "    _aa_dict_inverse = {v: k for k, v in AA_ID_DICT.items()}\n",
    "    aa_list = []\n",
    "    for protein_id in protein_id_list:\n",
    "        aa_symbol = _aa_dict_inverse[protein_id.item()]\n",
    "        aa_list.append(aa_symbol)\n",
    "    return aa_list"
   ]
  },
  {
   "cell_type": "code",
   "execution_count": null,
   "id": "ccedbc23",
   "metadata": {},
   "outputs": [],
   "source": []
  }
 ],
 "metadata": {
  "kernelspec": {
   "display_name": "Python 3 (ipykernel)",
   "language": "python",
   "name": "python3"
  },
  "language_info": {
   "codemirror_mode": {
    "name": "ipython",
    "version": 3
   },
   "file_extension": ".py",
   "mimetype": "text/x-python",
   "name": "python",
   "nbconvert_exporter": "python",
   "pygments_lexer": "ipython3",
   "version": "3.11.3"
  }
 },
 "nbformat": 4,
 "nbformat_minor": 5
}
